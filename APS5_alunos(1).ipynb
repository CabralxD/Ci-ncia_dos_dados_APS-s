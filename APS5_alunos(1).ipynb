{
 "cells": [
  {
   "cell_type": "markdown",
   "metadata": {},
   "source": [
    "# APS 5 - Questões com auxílio do Pandas"
   ]
  },
  {
   "cell_type": "markdown",
   "metadata": {},
   "source": [
    "** Nome: ** <font color=blue> Renan Rodriguez de Mesquita Cabral </font>\n"
   ]
  },
  {
   "cell_type": "markdown",
   "metadata": {},
   "source": [
    "APS **INDIVIDUAL**\n",
    "\n",
    "Data de Entrega: 26/Set até às 23h59 via GitHub.\n",
    "\n",
    "Vamos trabalhar com dados do USGS (United States Geological Survey) para tentar determinar se os abalos detectados no hemisfério Norte têm grande probabilidade de serem testes nucleares."
   ]
  },
  {
   "cell_type": "code",
   "execution_count": 2,
   "metadata": {
    "collapsed": true
   },
   "outputs": [],
   "source": [
    "%matplotlib inline\n",
    "import pandas as pd\n",
    "import numpy as np\n",
    "import matplotlib.pyplot as plt\n",
    "from scipy.stats import expon"
   ]
  },
  {
   "cell_type": "code",
   "execution_count": 3,
   "metadata": {},
   "outputs": [
    {
     "name": "stdout",
     "output_type": "stream",
     "text": [
      "['Date', 'Time', 'Latitude', 'Longitude', 'Type', 'Depth', 'Depth Error', 'Depth Seismic Stations', 'Magnitude', 'Magnitude Type', 'Magnitude Error', 'Magnitude Seismic Stations', 'Azimuthal Gap', 'Horizontal Distance', 'Horizontal Error', 'Root Mean Square', 'ID', 'Source', 'Location Source', 'Magnitude Source', 'Status']\n"
     ]
    }
   ],
   "source": [
    "#Abrir o arquivo\n",
    "df = pd.read_csv('earthquake.csv')\n",
    "#listar colunas\n",
    "print(list(df))"
   ]
  },
  {
   "cell_type": "markdown",
   "metadata": {},
   "source": [
    "## Liste as primeiras linhas do DataFrame"
   ]
  },
  {
   "cell_type": "code",
   "execution_count": 4,
   "metadata": {},
   "outputs": [
    {
     "data": {
      "text/html": [
       "<div>\n",
       "<table border=\"1\" class=\"dataframe\">\n",
       "  <thead>\n",
       "    <tr style=\"text-align: right;\">\n",
       "      <th></th>\n",
       "      <th>Date</th>\n",
       "      <th>Time</th>\n",
       "      <th>Latitude</th>\n",
       "      <th>Longitude</th>\n",
       "      <th>Type</th>\n",
       "      <th>Depth</th>\n",
       "      <th>Depth Error</th>\n",
       "      <th>Depth Seismic Stations</th>\n",
       "      <th>Magnitude</th>\n",
       "      <th>Magnitude Type</th>\n",
       "      <th>...</th>\n",
       "      <th>Magnitude Seismic Stations</th>\n",
       "      <th>Azimuthal Gap</th>\n",
       "      <th>Horizontal Distance</th>\n",
       "      <th>Horizontal Error</th>\n",
       "      <th>Root Mean Square</th>\n",
       "      <th>ID</th>\n",
       "      <th>Source</th>\n",
       "      <th>Location Source</th>\n",
       "      <th>Magnitude Source</th>\n",
       "      <th>Status</th>\n",
       "    </tr>\n",
       "  </thead>\n",
       "  <tbody>\n",
       "    <tr>\n",
       "      <th>0</th>\n",
       "      <td>01/02/1965</td>\n",
       "      <td>13:44:18</td>\n",
       "      <td>19.246</td>\n",
       "      <td>145.616</td>\n",
       "      <td>Earthquake</td>\n",
       "      <td>131.6</td>\n",
       "      <td>NaN</td>\n",
       "      <td>NaN</td>\n",
       "      <td>6.0</td>\n",
       "      <td>MW</td>\n",
       "      <td>...</td>\n",
       "      <td>NaN</td>\n",
       "      <td>NaN</td>\n",
       "      <td>NaN</td>\n",
       "      <td>NaN</td>\n",
       "      <td>NaN</td>\n",
       "      <td>ISCGEM860706</td>\n",
       "      <td>ISCGEM</td>\n",
       "      <td>ISCGEM</td>\n",
       "      <td>ISCGEM</td>\n",
       "      <td>Automatic</td>\n",
       "    </tr>\n",
       "    <tr>\n",
       "      <th>1</th>\n",
       "      <td>01/04/1965</td>\n",
       "      <td>11:29:49</td>\n",
       "      <td>1.863</td>\n",
       "      <td>127.352</td>\n",
       "      <td>Earthquake</td>\n",
       "      <td>80.0</td>\n",
       "      <td>NaN</td>\n",
       "      <td>NaN</td>\n",
       "      <td>5.8</td>\n",
       "      <td>MW</td>\n",
       "      <td>...</td>\n",
       "      <td>NaN</td>\n",
       "      <td>NaN</td>\n",
       "      <td>NaN</td>\n",
       "      <td>NaN</td>\n",
       "      <td>NaN</td>\n",
       "      <td>ISCGEM860737</td>\n",
       "      <td>ISCGEM</td>\n",
       "      <td>ISCGEM</td>\n",
       "      <td>ISCGEM</td>\n",
       "      <td>Automatic</td>\n",
       "    </tr>\n",
       "    <tr>\n",
       "      <th>2</th>\n",
       "      <td>01/05/1965</td>\n",
       "      <td>18:05:58</td>\n",
       "      <td>-20.579</td>\n",
       "      <td>-173.972</td>\n",
       "      <td>Earthquake</td>\n",
       "      <td>20.0</td>\n",
       "      <td>NaN</td>\n",
       "      <td>NaN</td>\n",
       "      <td>6.2</td>\n",
       "      <td>MW</td>\n",
       "      <td>...</td>\n",
       "      <td>NaN</td>\n",
       "      <td>NaN</td>\n",
       "      <td>NaN</td>\n",
       "      <td>NaN</td>\n",
       "      <td>NaN</td>\n",
       "      <td>ISCGEM860762</td>\n",
       "      <td>ISCGEM</td>\n",
       "      <td>ISCGEM</td>\n",
       "      <td>ISCGEM</td>\n",
       "      <td>Automatic</td>\n",
       "    </tr>\n",
       "    <tr>\n",
       "      <th>3</th>\n",
       "      <td>01/08/1965</td>\n",
       "      <td>18:49:43</td>\n",
       "      <td>-59.076</td>\n",
       "      <td>-23.557</td>\n",
       "      <td>Earthquake</td>\n",
       "      <td>15.0</td>\n",
       "      <td>NaN</td>\n",
       "      <td>NaN</td>\n",
       "      <td>5.8</td>\n",
       "      <td>MW</td>\n",
       "      <td>...</td>\n",
       "      <td>NaN</td>\n",
       "      <td>NaN</td>\n",
       "      <td>NaN</td>\n",
       "      <td>NaN</td>\n",
       "      <td>NaN</td>\n",
       "      <td>ISCGEM860856</td>\n",
       "      <td>ISCGEM</td>\n",
       "      <td>ISCGEM</td>\n",
       "      <td>ISCGEM</td>\n",
       "      <td>Automatic</td>\n",
       "    </tr>\n",
       "    <tr>\n",
       "      <th>4</th>\n",
       "      <td>01/09/1965</td>\n",
       "      <td>13:32:50</td>\n",
       "      <td>11.938</td>\n",
       "      <td>126.427</td>\n",
       "      <td>Earthquake</td>\n",
       "      <td>15.0</td>\n",
       "      <td>NaN</td>\n",
       "      <td>NaN</td>\n",
       "      <td>5.8</td>\n",
       "      <td>MW</td>\n",
       "      <td>...</td>\n",
       "      <td>NaN</td>\n",
       "      <td>NaN</td>\n",
       "      <td>NaN</td>\n",
       "      <td>NaN</td>\n",
       "      <td>NaN</td>\n",
       "      <td>ISCGEM860890</td>\n",
       "      <td>ISCGEM</td>\n",
       "      <td>ISCGEM</td>\n",
       "      <td>ISCGEM</td>\n",
       "      <td>Automatic</td>\n",
       "    </tr>\n",
       "  </tbody>\n",
       "</table>\n",
       "<p>5 rows × 21 columns</p>\n",
       "</div>"
      ],
      "text/plain": [
       "         Date      Time  Latitude  Longitude        Type  Depth  Depth Error  \\\n",
       "0  01/02/1965  13:44:18    19.246    145.616  Earthquake  131.6          NaN   \n",
       "1  01/04/1965  11:29:49     1.863    127.352  Earthquake   80.0          NaN   \n",
       "2  01/05/1965  18:05:58   -20.579   -173.972  Earthquake   20.0          NaN   \n",
       "3  01/08/1965  18:49:43   -59.076    -23.557  Earthquake   15.0          NaN   \n",
       "4  01/09/1965  13:32:50    11.938    126.427  Earthquake   15.0          NaN   \n",
       "\n",
       "   Depth Seismic Stations  Magnitude Magnitude Type    ...      \\\n",
       "0                     NaN        6.0             MW    ...       \n",
       "1                     NaN        5.8             MW    ...       \n",
       "2                     NaN        6.2             MW    ...       \n",
       "3                     NaN        5.8             MW    ...       \n",
       "4                     NaN        5.8             MW    ...       \n",
       "\n",
       "   Magnitude Seismic Stations  Azimuthal Gap  Horizontal Distance  \\\n",
       "0                         NaN            NaN                  NaN   \n",
       "1                         NaN            NaN                  NaN   \n",
       "2                         NaN            NaN                  NaN   \n",
       "3                         NaN            NaN                  NaN   \n",
       "4                         NaN            NaN                  NaN   \n",
       "\n",
       "   Horizontal Error  Root Mean Square            ID  Source Location Source  \\\n",
       "0               NaN               NaN  ISCGEM860706  ISCGEM          ISCGEM   \n",
       "1               NaN               NaN  ISCGEM860737  ISCGEM          ISCGEM   \n",
       "2               NaN               NaN  ISCGEM860762  ISCGEM          ISCGEM   \n",
       "3               NaN               NaN  ISCGEM860856  ISCGEM          ISCGEM   \n",
       "4               NaN               NaN  ISCGEM860890  ISCGEM          ISCGEM   \n",
       "\n",
       "  Magnitude Source     Status  \n",
       "0           ISCGEM  Automatic  \n",
       "1           ISCGEM  Automatic  \n",
       "2           ISCGEM  Automatic  \n",
       "3           ISCGEM  Automatic  \n",
       "4           ISCGEM  Automatic  \n",
       "\n",
       "[5 rows x 21 columns]"
      ]
     },
     "execution_count": 4,
     "metadata": {},
     "output_type": "execute_result"
    }
   ],
   "source": [
    "df.head()"
   ]
  },
  {
   "cell_type": "markdown",
   "metadata": {},
   "source": [
    "## Q1 - Manipulando o DataFrame\n",
    "\n",
    "Crie uma coluna chamada `Hemisfério` baseada na Latitude\n",
    "\n",
    "A regra de formação é a seguinte:\n",
    "\n",
    "Valor | Critério\n",
    "---|---\n",
    "Norte | Latitude positiva\n",
    "Sul | Latitude negativa"
   ]
  },
  {
   "cell_type": "code",
   "execution_count": 5,
   "metadata": {
    "collapsed": true
   },
   "outputs": [],
   "source": [
    "#dados_filt.loc[(dados_geral.UF==\"São Paulo\") | (dados_geral.UF==\"Rio de Janeiro\"),\"Região\"]=\"Sudeste\"\n",
    "\n",
    "df.loc[(df.Latitude>0), \"Hemisfério\"]=\"Norte\"\n",
    "df.loc[(df.Latitude<0), \"Hemisfério\"]=\"Sul\"\n"
   ]
  },
  {
   "cell_type": "code",
   "execution_count": 6,
   "metadata": {
    "collapsed": true
   },
   "outputs": [],
   "source": [
    "#df.Hemisfério"
   ]
  },
  {
   "cell_type": "markdown",
   "metadata": {},
   "source": [
    "## Q2 - Fit e Histograma\n",
    "\n",
    "Faça o Histograma da Magnitude. Interprete."
   ]
  },
  {
   "cell_type": "code",
   "execution_count": 7,
   "metadata": {},
   "outputs": [
    {
     "data": {
      "text/plain": [
       "count    23412.000000\n",
       "mean         5.882531\n",
       "std          0.423066\n",
       "min          5.500000\n",
       "25%          5.600000\n",
       "50%          5.700000\n",
       "75%          6.000000\n",
       "max          9.100000\n",
       "Name: Magnitude, dtype: float64"
      ]
     },
     "execution_count": 7,
     "metadata": {},
     "output_type": "execute_result"
    }
   ],
   "source": [
    "x=df.Magnitude\n",
    "x.describe()"
   ]
  },
  {
   "cell_type": "code",
   "execution_count": 8,
   "metadata": {
    "collapsed": true
   },
   "outputs": [],
   "source": [
    "import math\n",
    "import numpy as np\n",
    "n_de_classes=20"
   ]
  },
  {
   "cell_type": "code",
   "execution_count": 9,
   "metadata": {},
   "outputs": [
    {
     "name": "stdout",
     "output_type": "stream",
     "text": [
      "0.18\n"
     ]
    }
   ],
   "source": [
    "#amplitude=máx-mín\n",
    "amplitude_dados=9.1-5.5\n",
    "#número de classes = sqrt(n) se forem poucas amostras\n",
    "\n",
    "amplitude_classes=amplitude_dados/n_de_classes\n",
    "print(amplitude_classes)\n",
    "\n",
    "faixa = np.arange(5.5, 9.1, amplitude_classes)"
   ]
  },
  {
   "cell_type": "code",
   "execution_count": 10,
   "metadata": {},
   "outputs": [
    {
     "data": {
      "text/plain": [
       "<matplotlib.text.Text at 0x1a857022588>"
      ]
     },
     "execution_count": 10,
     "metadata": {},
     "output_type": "execute_result"
    },
    {
     "data": {
      "image/png": "[encoded data removed]",
      "text/plain": [
       "<matplotlib.figure.Figure at 0x1a857aabe48>"
      ]
     },
     "metadata": {},
     "output_type": "display_data"
    }
   ],
   "source": [
    "plot=df.Magnitude.plot.hist(bins=faixa, title=\"Histograma de Magnitude\", normed=True, alpha=0.5)\n",
    "\n",
    "plt.ylabel(\"densidade\")\n",
    "plt.xlabel(\"magnitude\")"
   ]
  },
  {
   "cell_type": "markdown",
   "metadata": {},
   "source": [
    "Faça o fit de uma distribuição exponencial sobre os dados da Magnitude, achando os valores de **loc** e **scale**. Interprete loc e scale no caso da exponencial.\n",
    "Documentação: https://docs.scipy.org/doc/scipy/reference/generated/scipy.stats.expon.html"
   ]
  },
  {
   "cell_type": "code",
   "execution_count": 11,
   "metadata": {
    "collapsed": true
   },
   "outputs": [],
   "source": [
    "import scipy.stats\n",
    "\n",
    "lamb=5.88    #média retirada do describe (mean)\n",
    "mu=1/lamb    \n",
    "sigma=1/lamb  #desv. pad.\n",
    "\n",
    "loc=0\n",
    "scale=mu   #média\n",
    "n=23400  #aproximadamente o mesmo número do count do describe\n",
    "x=expon.rvs(loc, scale, n)"
   ]
  },
  {
   "cell_type": "code",
   "execution_count": 12,
   "metadata": {},
   "outputs": [
    {
     "name": "stdout",
     "output_type": "stream",
     "text": [
      "Valores teóricos vs Valores simulados:\n",
      "média:  0.17006802721088435  vs  0.168762059445\n",
      "dp:  0.17006802721088435  vs  0.165739429218\n"
     ]
    }
   ],
   "source": [
    "#Validando os valores da saída:\n",
    "print('Valores teóricos vs Valores simulados:')\n",
    "print('média: ', mu, ' vs ', x.mean())\n",
    "print('dp: ', sigma, ' vs ', x.std())"
   ]
  },
  {
   "cell_type": "markdown",
   "metadata": {},
   "source": [
    "Refaça o Histograma plotando a fdp (função densidade de probabilidade) da exponencial com os parâmetros achados no fit em cima. Cuidado com o domínio utilizado. Interprete."
   ]
  },
  {
   "cell_type": "code",
   "execution_count": 13,
   "metadata": {},
   "outputs": [
    {
     "data": {
      "text/plain": [
       "<matplotlib.legend.Legend at 0x1a857cdcb00>"
      ]
     },
     "execution_count": 13,
     "metadata": {},
     "output_type": "execute_result"
    },
    {
     "data": {
      "image/png": "[encoded data removed]",
      "text/plain": [
       "<matplotlib.figure.Figure at 0x1a857e54390>"
      ]
     },
     "metadata": {},
     "output_type": "display_data"
    }
   ],
   "source": [
    "#fazendo o fit nos gráficos\n",
    "\n",
    "fig, ax = plt.subplots(1,2, figsize=(12,4))\n",
    "\n",
    "ax[0].hist(x, normed=True)  \n",
    "w=np.arange(x.min(), x.max(), 0.1)\n",
    "\n",
    "ax[0].plot(w, expon.pdf(w, loc, scale)) \n",
    "ax[0].set_title(\"Histograma vs pdf\")\n",
    "ax[0].legend([\"modelo\", \"simulado\"])\n",
    "\n",
    "ax[1].plot(w, expon.cdf(w, loc, scale)) #cumulative distribution function\n",
    "ax[1].set_title('cdf')\n",
    "ax[1].legend(['cdf'])"
   ]
  },
  {
   "cell_type": "markdown",
   "metadata": {},
   "source": [
    "## Q3 - Tabela cruzada\n",
    "\n",
    "Faça uma tabela de cruzamento das variáveis `Hemisfério` e `Type`\n",
    "\n",
    "Sua tabela deve ser <font color=red> normalizada</font>"
   ]
  },
  {
   "cell_type": "code",
   "execution_count": 14,
   "metadata": {},
   "outputs": [
    {
     "data": {
      "text/html": [
       "<div>\n",
       "<table border=\"1\" class=\"dataframe\">\n",
       "  <thead>\n",
       "    <tr style=\"text-align: right;\">\n",
       "      <th>Hemisfério</th>\n",
       "      <th>Norte</th>\n",
       "      <th>Sul</th>\n",
       "      <th>All</th>\n",
       "    </tr>\n",
       "    <tr>\n",
       "      <th>Type</th>\n",
       "      <th></th>\n",
       "      <th></th>\n",
       "      <th></th>\n",
       "    </tr>\n",
       "  </thead>\n",
       "  <tbody>\n",
       "    <tr>\n",
       "      <th>Earthquake</th>\n",
       "      <td>44.71</td>\n",
       "      <td>54.52</td>\n",
       "      <td>99.23</td>\n",
       "    </tr>\n",
       "    <tr>\n",
       "      <th>Explosion</th>\n",
       "      <td>0.01</td>\n",
       "      <td>0.01</td>\n",
       "      <td>0.02</td>\n",
       "    </tr>\n",
       "    <tr>\n",
       "      <th>Nuclear Explosion</th>\n",
       "      <td>0.63</td>\n",
       "      <td>0.12</td>\n",
       "      <td>0.75</td>\n",
       "    </tr>\n",
       "    <tr>\n",
       "      <th>Rock Burst</th>\n",
       "      <td>0.00</td>\n",
       "      <td>0.00</td>\n",
       "      <td>0.00</td>\n",
       "    </tr>\n",
       "    <tr>\n",
       "      <th>All</th>\n",
       "      <td>45.35</td>\n",
       "      <td>54.65</td>\n",
       "      <td>100.00</td>\n",
       "    </tr>\n",
       "  </tbody>\n",
       "</table>\n",
       "</div>"
      ],
      "text/plain": [
       "Hemisfério         Norte    Sul     All\n",
       "Type                                   \n",
       "Earthquake         44.71  54.52   99.23\n",
       "Explosion           0.01   0.01    0.02\n",
       "Nuclear Explosion   0.63   0.12    0.75\n",
       "Rock Burst          0.00   0.00    0.00\n",
       "All                45.35  54.65  100.00"
      ]
     },
     "execution_count": 14,
     "metadata": {},
     "output_type": "execute_result"
    }
   ],
   "source": [
    "tab_cruz=pd.crosstab(df.Type, df.Hemisfério, margins=True, normalize=True)*100\n",
    "tab_cruz=tab_cruz.round(decimals=2)\n",
    "tab_cruz"
   ]
  },
  {
   "cell_type": "markdown",
   "metadata": {},
   "source": [
    "### Q3.1 - Qual a probabilidade de ocorrer um terremoto no hemisfério norte?"
   ]
  },
  {
   "cell_type": "markdown",
   "metadata": {},
   "source": [
    "Adicione na célula abaixo o cálculo:"
   ]
  },
  {
   "cell_type": "code",
   "execution_count": null,
   "metadata": {
    "collapsed": true
   },
   "outputs": [],
   "source": []
  },
  {
   "cell_type": "code",
   "execution_count": 15,
   "metadata": {},
   "outputs": [
    {
     "name": "stdout",
     "output_type": "stream",
     "text": [
      "A probabilidade de acontecer um terremoto no hemisfério Norte é: \n",
      "45.06046995347225 %\n"
     ]
    }
   ],
   "source": [
    "#prob de ocorrer um terremoto e ser no hemisfério norte\n",
    "#é igual a probabilidade de ser um terremoto no norte \n",
    "#dividido pela probabilidade de um terremoto acontecer\n",
    "\n",
    "\n",
    "p=0.447140/(0.447140+0.545171)\n",
    "\n",
    "print(\"A probabilidade de acontecer um terremoto no hemisfério Norte é: \")\n",
    "print(p*100, \"%\")"
   ]
  },
  {
   "cell_type": "markdown",
   "metadata": {},
   "source": [
    "Explique o seu raciocínio"
   ]
  },
  {
   "cell_type": "code",
   "execution_count": 16,
   "metadata": {
    "collapsed": true
   },
   "outputs": [],
   "source": [
    "#explicado na célula acima"
   ]
  },
  {
   "cell_type": "markdown",
   "metadata": {},
   "source": [
    "### Q3.2 - Dado que aconteceu no Norte, qual a probabilidade de ele ter sido `Nuclear Explosion`? "
   ]
  },
  {
   "cell_type": "markdown",
   "metadata": {},
   "source": [
    "Calcule a resposta abaixo, ou explique como a encontrou"
   ]
  },
  {
   "cell_type": "markdown",
   "metadata": {},
   "source": [
    "Se for cálculo preencha a célula a seguir:"
   ]
  },
  {
   "cell_type": "code",
   "execution_count": 17,
   "metadata": {},
   "outputs": [
    {
     "name": "stdout",
     "output_type": "stream",
     "text": [
      "0.014046979865771811\n",
      "1.4046979865771811 %\n"
     ]
    }
   ],
   "source": [
    "#probabilidade de ser nuclear explosion e ser no Norte\n",
    "#dividido pela probabilidade de ser no Norte\n",
    "p=0.006279/0.447\n",
    "print(p)\n",
    "print(p*100,\"%\")"
   ]
  },
  {
   "cell_type": "markdown",
   "metadata": {},
   "source": [
    "Se conseguir obter a resposta sem calcular, insira a resposta abaixo:\n",
    "\n",
    "* A probabilidade de ter sido `Nuclear Explosion` é ..."
   ]
  },
  {
   "cell_type": "code",
   "execution_count": 18,
   "metadata": {
    "scrolled": true
   },
   "outputs": [
    {
     "data": {
      "text/plain": [
       "Index(['Date', 'Time', 'Latitude', 'Longitude', 'Type', 'Depth', 'Depth Error',\n",
       "       'Depth Seismic Stations', 'Magnitude', 'Magnitude Type',\n",
       "       'Magnitude Error', 'Magnitude Seismic Stations', 'Azimuthal Gap',\n",
       "       'Horizontal Distance', 'Horizontal Error', 'Root Mean Square', 'ID',\n",
       "       'Source', 'Location Source', 'Magnitude Source', 'Status',\n",
       "       'Hemisfério'],\n",
       "      dtype='object')"
      ]
     },
     "execution_count": 18,
     "metadata": {},
     "output_type": "execute_result"
    }
   ],
   "source": [
    "df.columns"
   ]
  },
  {
   "cell_type": "code",
   "execution_count": 19,
   "metadata": {
    "collapsed": true
   },
   "outputs": [],
   "source": [
    "df[\"Magnitude_Error\"]=df[\"Magnitude Error\"]"
   ]
  },
  {
   "cell_type": "markdown",
   "metadata": {},
   "source": [
    "## Q4 - Análise bivariada\n",
    "\n",
    "Faça o *plot* de dispersão (*scatter plot*) entre as variáveis `Magnitude Error`  e `Depth`"
   ]
  },
  {
   "cell_type": "code",
   "execution_count": 20,
   "metadata": {},
   "outputs": [
    {
     "data": {
      "image/png": "[encoded data removed]",
      "text/plain": [
       "<matplotlib.figure.Figure at 0x1a857d40f98>"
      ]
     },
     "metadata": {},
     "output_type": "display_data"
    }
   ],
   "source": [
    "tab_cruz2=pd.crosstab(df[\"Magnitude Error\"], df.Depth)\n",
    "\n",
    "plt.scatter(df[\"Magnitude Error\"], df.Depth, c=\"red\", alpha=0.8)\n",
    "plt.title(\"Profundidade por erro de magnitude\")\n",
    "plt.ylabel(\"Profundidade\")\n",
    "plt.xlabel(\"Erro de Magnitude\")\n",
    "plt.show()"
   ]
  },
  {
   "cell_type": "code",
   "execution_count": 21,
   "metadata": {
    "collapsed": true
   },
   "outputs": [],
   "source": [
    "#parece que quanto maior a profundidade, menor é o erro\n",
    "#de magnitude"
   ]
  },
  {
   "cell_type": "code",
   "execution_count": 22,
   "metadata": {},
   "outputs": [
    {
     "data": {
      "text/plain": [
       "count    327.000000\n",
       "mean       0.071820\n",
       "std        0.051466\n",
       "min        0.000000\n",
       "25%        0.046000\n",
       "50%        0.059000\n",
       "75%        0.075500\n",
       "max        0.410000\n",
       "Name: Magnitude Error, dtype: float64"
      ]
     },
     "execution_count": 22,
     "metadata": {},
     "output_type": "execute_result"
    }
   ],
   "source": [
    "df[\"Magnitude Error\"].describe()"
   ]
  },
  {
   "cell_type": "markdown",
   "metadata": {},
   "source": [
    "Calcule a correlação entre as variáveis `Magnitude Error`  e `Depth`"
   ]
  },
  {
   "cell_type": "code",
   "execution_count": 24,
   "metadata": {
    "scrolled": false
   },
   "outputs": [
    {
     "data": {
      "text/html": [
       "<div>\n",
       "<table border=\"1\" class=\"dataframe\">\n",
       "  <thead>\n",
       "    <tr style=\"text-align: right;\">\n",
       "      <th></th>\n",
       "      <th>Latitude</th>\n",
       "      <th>Longitude</th>\n",
       "      <th>Depth</th>\n",
       "      <th>Depth Error</th>\n",
       "      <th>Depth Seismic Stations</th>\n",
       "      <th>Magnitude</th>\n",
       "      <th>Magnitude Error</th>\n",
       "      <th>Magnitude Seismic Stations</th>\n",
       "      <th>Azimuthal Gap</th>\n",
       "      <th>Horizontal Distance</th>\n",
       "      <th>Horizontal Error</th>\n",
       "      <th>Root Mean Square</th>\n",
       "      <th>Magnitude_Error</th>\n",
       "    </tr>\n",
       "  </thead>\n",
       "  <tbody>\n",
       "    <tr>\n",
       "      <th>Latitude</th>\n",
       "      <td>1.000000</td>\n",
       "      <td>0.203546</td>\n",
       "      <td>-0.081020</td>\n",
       "      <td>0.007080</td>\n",
       "      <td>0.433815</td>\n",
       "      <td>0.034987</td>\n",
       "      <td>0.113208</td>\n",
       "      <td>0.315075</td>\n",
       "      <td>0.050794</td>\n",
       "      <td>-0.396768</td>\n",
       "      <td>0.015625</td>\n",
       "      <td>-0.214762</td>\n",
       "      <td>0.113208</td>\n",
       "    </tr>\n",
       "    <tr>\n",
       "      <th>Longitude</th>\n",
       "      <td>0.203546</td>\n",
       "      <td>1.000000</td>\n",
       "      <td>-0.085861</td>\n",
       "      <td>0.020552</td>\n",
       "      <td>0.015924</td>\n",
       "      <td>0.038579</td>\n",
       "      <td>-0.214609</td>\n",
       "      <td>0.148510</td>\n",
       "      <td>-0.233097</td>\n",
       "      <td>-0.131313</td>\n",
       "      <td>-0.093827</td>\n",
       "      <td>-0.028061</td>\n",
       "      <td>-0.214609</td>\n",
       "    </tr>\n",
       "    <tr>\n",
       "      <th>Depth</th>\n",
       "      <td>-0.081020</td>\n",
       "      <td>-0.085861</td>\n",
       "      <td>1.000000</td>\n",
       "      <td>-0.074609</td>\n",
       "      <td>0.174663</td>\n",
       "      <td>0.023457</td>\n",
       "      <td>-0.076918</td>\n",
       "      <td>-0.015254</td>\n",
       "      <td>-0.171162</td>\n",
       "      <td>-0.073832</td>\n",
       "      <td>-0.016467</td>\n",
       "      <td>-0.134002</td>\n",
       "      <td>-0.076918</td>\n",
       "    </tr>\n",
       "    <tr>\n",
       "      <th>Depth Error</th>\n",
       "      <td>0.007080</td>\n",
       "      <td>0.020552</td>\n",
       "      <td>-0.074609</td>\n",
       "      <td>1.000000</td>\n",
       "      <td>-0.320579</td>\n",
       "      <td>-0.135880</td>\n",
       "      <td>0.618254</td>\n",
       "      <td>-0.093292</td>\n",
       "      <td>0.357704</td>\n",
       "      <td>-0.077423</td>\n",
       "      <td>0.644593</td>\n",
       "      <td>0.094398</td>\n",
       "      <td>0.618254</td>\n",
       "    </tr>\n",
       "    <tr>\n",
       "      <th>Depth Seismic Stations</th>\n",
       "      <td>0.433815</td>\n",
       "      <td>0.015924</td>\n",
       "      <td>0.174663</td>\n",
       "      <td>-0.320579</td>\n",
       "      <td>1.000000</td>\n",
       "      <td>0.440582</td>\n",
       "      <td>-0.385993</td>\n",
       "      <td>0.813374</td>\n",
       "      <td>-0.420556</td>\n",
       "      <td>0.056619</td>\n",
       "      <td>-0.214959</td>\n",
       "      <td>-0.158620</td>\n",
       "      <td>-0.385993</td>\n",
       "    </tr>\n",
       "    <tr>\n",
       "      <th>Magnitude</th>\n",
       "      <td>0.034987</td>\n",
       "      <td>0.038579</td>\n",
       "      <td>0.023457</td>\n",
       "      <td>-0.135880</td>\n",
       "      <td>0.440582</td>\n",
       "      <td>1.000000</td>\n",
       "      <td>0.135573</td>\n",
       "      <td>-0.003972</td>\n",
       "      <td>-0.233579</td>\n",
       "      <td>-0.092609</td>\n",
       "      <td>-0.078406</td>\n",
       "      <td>0.075865</td>\n",
       "      <td>0.135573</td>\n",
       "    </tr>\n",
       "    <tr>\n",
       "      <th>Magnitude Error</th>\n",
       "      <td>0.113208</td>\n",
       "      <td>-0.214609</td>\n",
       "      <td>-0.076918</td>\n",
       "      <td>0.618254</td>\n",
       "      <td>-0.385993</td>\n",
       "      <td>0.135573</td>\n",
       "      <td>1.000000</td>\n",
       "      <td>-0.334062</td>\n",
       "      <td>0.567411</td>\n",
       "      <td>-0.076744</td>\n",
       "      <td>0.617721</td>\n",
       "      <td>0.032616</td>\n",
       "      <td>1.000000</td>\n",
       "    </tr>\n",
       "    <tr>\n",
       "      <th>Magnitude Seismic Stations</th>\n",
       "      <td>0.315075</td>\n",
       "      <td>0.148510</td>\n",
       "      <td>-0.015254</td>\n",
       "      <td>-0.093292</td>\n",
       "      <td>0.813374</td>\n",
       "      <td>-0.003972</td>\n",
       "      <td>-0.334062</td>\n",
       "      <td>1.000000</td>\n",
       "      <td>-0.334864</td>\n",
       "      <td>-0.117606</td>\n",
       "      <td>-0.093143</td>\n",
       "      <td>-0.167473</td>\n",
       "      <td>-0.334062</td>\n",
       "    </tr>\n",
       "    <tr>\n",
       "      <th>Azimuthal Gap</th>\n",
       "      <td>0.050794</td>\n",
       "      <td>-0.233097</td>\n",
       "      <td>-0.171162</td>\n",
       "      <td>0.357704</td>\n",
       "      <td>-0.420556</td>\n",
       "      <td>-0.233579</td>\n",
       "      <td>0.567411</td>\n",
       "      <td>-0.334864</td>\n",
       "      <td>1.000000</td>\n",
       "      <td>-0.033482</td>\n",
       "      <td>0.396450</td>\n",
       "      <td>-0.056217</td>\n",
       "      <td>0.567411</td>\n",
       "    </tr>\n",
       "    <tr>\n",
       "      <th>Horizontal Distance</th>\n",
       "      <td>-0.396768</td>\n",
       "      <td>-0.131313</td>\n",
       "      <td>-0.073832</td>\n",
       "      <td>-0.077423</td>\n",
       "      <td>0.056619</td>\n",
       "      <td>-0.092609</td>\n",
       "      <td>-0.076744</td>\n",
       "      <td>-0.117606</td>\n",
       "      <td>-0.033482</td>\n",
       "      <td>1.000000</td>\n",
       "      <td>0.126877</td>\n",
       "      <td>0.035778</td>\n",
       "      <td>-0.076744</td>\n",
       "    </tr>\n",
       "    <tr>\n",
       "      <th>Horizontal Error</th>\n",
       "      <td>0.015625</td>\n",
       "      <td>-0.093827</td>\n",
       "      <td>-0.016467</td>\n",
       "      <td>0.644593</td>\n",
       "      <td>-0.214959</td>\n",
       "      <td>-0.078406</td>\n",
       "      <td>0.617721</td>\n",
       "      <td>-0.093143</td>\n",
       "      <td>0.396450</td>\n",
       "      <td>0.126877</td>\n",
       "      <td>1.000000</td>\n",
       "      <td>0.157842</td>\n",
       "      <td>0.617721</td>\n",
       "    </tr>\n",
       "    <tr>\n",
       "      <th>Root Mean Square</th>\n",
       "      <td>-0.214762</td>\n",
       "      <td>-0.028061</td>\n",
       "      <td>-0.134002</td>\n",
       "      <td>0.094398</td>\n",
       "      <td>-0.158620</td>\n",
       "      <td>0.075865</td>\n",
       "      <td>0.032616</td>\n",
       "      <td>-0.167473</td>\n",
       "      <td>-0.056217</td>\n",
       "      <td>0.035778</td>\n",
       "      <td>0.157842</td>\n",
       "      <td>1.000000</td>\n",
       "      <td>0.032616</td>\n",
       "    </tr>\n",
       "    <tr>\n",
       "      <th>Magnitude_Error</th>\n",
       "      <td>0.113208</td>\n",
       "      <td>-0.214609</td>\n",
       "      <td>-0.076918</td>\n",
       "      <td>0.618254</td>\n",
       "      <td>-0.385993</td>\n",
       "      <td>0.135573</td>\n",
       "      <td>1.000000</td>\n",
       "      <td>-0.334062</td>\n",
       "      <td>0.567411</td>\n",
       "      <td>-0.076744</td>\n",
       "      <td>0.617721</td>\n",
       "      <td>0.032616</td>\n",
       "      <td>1.000000</td>\n",
       "    </tr>\n",
       "  </tbody>\n",
       "</table>\n",
       "</div>"
      ],
      "text/plain": [
       "                            Latitude  Longitude     Depth  Depth Error  \\\n",
       "Latitude                    1.000000   0.203546 -0.081020     0.007080   \n",
       "Longitude                   0.203546   1.000000 -0.085861     0.020552   \n",
       "Depth                      -0.081020  -0.085861  1.000000    -0.074609   \n",
       "Depth Error                 0.007080   0.020552 -0.074609     1.000000   \n",
       "Depth Seismic Stations      0.433815   0.015924  0.174663    -0.320579   \n",
       "Magnitude                   0.034987   0.038579  0.023457    -0.135880   \n",
       "Magnitude Error             0.113208  -0.214609 -0.076918     0.618254   \n",
       "Magnitude Seismic Stations  0.315075   0.148510 -0.015254    -0.093292   \n",
       "Azimuthal Gap               0.050794  -0.233097 -0.171162     0.357704   \n",
       "Horizontal Distance        -0.396768  -0.131313 -0.073832    -0.077423   \n",
       "Horizontal Error            0.015625  -0.093827 -0.016467     0.644593   \n",
       "Root Mean Square           -0.214762  -0.028061 -0.134002     0.094398   \n",
       "Magnitude_Error             0.113208  -0.214609 -0.076918     0.618254   \n",
       "\n",
       "                            Depth Seismic Stations  Magnitude  \\\n",
       "Latitude                                  0.433815   0.034987   \n",
       "Longitude                                 0.015924   0.038579   \n",
       "Depth                                     0.174663   0.023457   \n",
       "Depth Error                              -0.320579  -0.135880   \n",
       "Depth Seismic Stations                    1.000000   0.440582   \n",
       "Magnitude                                 0.440582   1.000000   \n",
       "Magnitude Error                          -0.385993   0.135573   \n",
       "Magnitude Seismic Stations                0.813374  -0.003972   \n",
       "Azimuthal Gap                            -0.420556  -0.233579   \n",
       "Horizontal Distance                       0.056619  -0.092609   \n",
       "Horizontal Error                         -0.214959  -0.078406   \n",
       "Root Mean Square                         -0.158620   0.075865   \n",
       "Magnitude_Error                          -0.385993   0.135573   \n",
       "\n",
       "                            Magnitude Error  Magnitude Seismic Stations  \\\n",
       "Latitude                           0.113208                    0.315075   \n",
       "Longitude                         -0.214609                    0.148510   \n",
       "Depth                             -0.076918                   -0.015254   \n",
       "Depth Error                        0.618254                   -0.093292   \n",
       "Depth Seismic Stations            -0.385993                    0.813374   \n",
       "Magnitude                          0.135573                   -0.003972   \n",
       "Magnitude Error                    1.000000                   -0.334062   \n",
       "Magnitude Seismic Stations        -0.334062                    1.000000   \n",
       "Azimuthal Gap                      0.567411                   -0.334864   \n",
       "Horizontal Distance               -0.076744                   -0.117606   \n",
       "Horizontal Error                   0.617721                   -0.093143   \n",
       "Root Mean Square                   0.032616                   -0.167473   \n",
       "Magnitude_Error                    1.000000                   -0.334062   \n",
       "\n",
       "                            Azimuthal Gap  Horizontal Distance  \\\n",
       "Latitude                         0.050794            -0.396768   \n",
       "Longitude                       -0.233097            -0.131313   \n",
       "Depth                           -0.171162            -0.073832   \n",
       "Depth Error                      0.357704            -0.077423   \n",
       "Depth Seismic Stations          -0.420556             0.056619   \n",
       "Magnitude                       -0.233579            -0.092609   \n",
       "Magnitude Error                  0.567411            -0.076744   \n",
       "Magnitude Seismic Stations      -0.334864            -0.117606   \n",
       "Azimuthal Gap                    1.000000            -0.033482   \n",
       "Horizontal Distance             -0.033482             1.000000   \n",
       "Horizontal Error                 0.396450             0.126877   \n",
       "Root Mean Square                -0.056217             0.035778   \n",
       "Magnitude_Error                  0.567411            -0.076744   \n",
       "\n",
       "                            Horizontal Error  Root Mean Square  \\\n",
       "Latitude                            0.015625         -0.214762   \n",
       "Longitude                          -0.093827         -0.028061   \n",
       "Depth                              -0.016467         -0.134002   \n",
       "Depth Error                         0.644593          0.094398   \n",
       "Depth Seismic Stations             -0.214959         -0.158620   \n",
       "Magnitude                          -0.078406          0.075865   \n",
       "Magnitude Error                     0.617721          0.032616   \n",
       "Magnitude Seismic Stations         -0.093143         -0.167473   \n",
       "Azimuthal Gap                       0.396450         -0.056217   \n",
       "Horizontal Distance                 0.126877          0.035778   \n",
       "Horizontal Error                    1.000000          0.157842   \n",
       "Root Mean Square                    0.157842          1.000000   \n",
       "Magnitude_Error                     0.617721          0.032616   \n",
       "\n",
       "                            Magnitude_Error  \n",
       "Latitude                           0.113208  \n",
       "Longitude                         -0.214609  \n",
       "Depth                             -0.076918  \n",
       "Depth Error                        0.618254  \n",
       "Depth Seismic Stations            -0.385993  \n",
       "Magnitude                          0.135573  \n",
       "Magnitude Error                    1.000000  \n",
       "Magnitude Seismic Stations        -0.334062  \n",
       "Azimuthal Gap                      0.567411  \n",
       "Horizontal Distance               -0.076744  \n",
       "Horizontal Error                   0.617721  \n",
       "Root Mean Square                   0.032616  \n",
       "Magnitude_Error                    1.000000  "
      ]
     },
     "execution_count": 24,
     "metadata": {},
     "output_type": "execute_result"
    }
   ],
   "source": [
    "# correlação = covariancia/desv.pad.(x)*desv.pad.(y)\n",
    "\n",
    "df.corr(method=\"pearson\", min_periods=1)"
   ]
  },
  {
   "cell_type": "code",
   "execution_count": 26,
   "metadata": {},
   "outputs": [
    {
     "name": "stdout",
     "output_type": "stream",
     "text": [
      "retirado da tabela:\n",
      "A correlação é de -0.076918\n",
      "correlação negtiva de 7%\n"
     ]
    }
   ],
   "source": [
    "print(\"retirado da tabela:\")\n",
    "print(\"A correlação é de -0.076918\")\n",
    "print(\"correlação negtiva de 7%\")\n",
    "\n",
    "#O valor quer dizer que há uma correlação negativa de 7% entre Magnitude Error e Depth,\n",
    "#ou seja, a cada 1 Magnitude Error que aumenta, a Depth cai em 0.07\n",
    "\n",
    "#neste caso a correlação é tão próxima de 0 que pode ser considerada inexistente"
   ]
  },
  {
   "cell_type": "markdown",
   "metadata": {},
   "source": [
    "Explique o que significa o valor da correlação calculada acima? "
   ]
  },
  {
   "cell_type": "markdown",
   "metadata": {
    "collapsed": true
   },
   "source": [
    "a correlação é o coeficiente de o quanto os pontos estão alinhados (associação linear entre duas variáveis quantitativas)\n",
    "\n",
    "se positivo relação linear positiva\n",
    "se negativo relação linear negativa\n",
    "\n",
    "quanto mais próximo de 1 ou -1 mais intensa é a relação de linearidade\n",
    "\n",
    "quanto mais próximo de zero mais ausente a relação de linearidade"
   ]
  },
  {
   "cell_type": "markdown",
   "metadata": {},
   "source": [
    "## Q5 - Describe e boxplot\n",
    "\n",
    "Faça o `describe` e o *boxplot* da `Latitude` e da `Longitude`. Explique os valores"
   ]
  },
  {
   "cell_type": "code",
   "execution_count": 27,
   "metadata": {},
   "outputs": [
    {
     "data": {
      "text/plain": [
       "count    23412.000000\n",
       "mean         1.679033\n",
       "std         30.113183\n",
       "min        -77.080000\n",
       "25%        -18.653000\n",
       "50%         -3.568500\n",
       "75%         26.190750\n",
       "max         86.005000\n",
       "Name: Latitude, dtype: float64"
      ]
     },
     "execution_count": 27,
     "metadata": {},
     "output_type": "execute_result"
    }
   ],
   "source": [
    "df.Latitude.describe()"
   ]
  },
  {
   "cell_type": "code",
   "execution_count": null,
   "metadata": {
    "collapsed": true
   },
   "outputs": [],
   "source": []
  },
  {
   "cell_type": "code",
   "execution_count": 28,
   "metadata": {},
   "outputs": [
    {
     "data": {
      "text/plain": [
       "count    23412.000000\n",
       "mean        39.639961\n",
       "std        125.511959\n",
       "min       -179.997000\n",
       "25%        -76.349750\n",
       "50%        103.982000\n",
       "75%        145.026250\n",
       "max        179.998000\n",
       "Name: Longitude, dtype: float64"
      ]
     },
     "execution_count": 28,
     "metadata": {},
     "output_type": "execute_result"
    }
   ],
   "source": [
    "df.Longitude.describe()"
   ]
  },
  {
   "cell_type": "code",
   "execution_count": null,
   "metadata": {
    "collapsed": true
   },
   "outputs": [],
   "source": []
  },
  {
   "cell_type": "code",
   "execution_count": 29,
   "metadata": {},
   "outputs": [
    {
     "data": {
      "image/png": "[encoded data removed]",
      "text/plain": [
       "<matplotlib.figure.Figure at 0x1a857e9bd68>"
      ]
     },
     "metadata": {},
     "output_type": "display_data"
    },
    {
     "data": {
      "image/png": "[encoded data removed]",
      "text/plain": [
       "<matplotlib.figure.Figure at 0x1a8581b3748>"
      ]
     },
     "metadata": {},
     "output_type": "display_data"
    }
   ],
   "source": [
    "plot_lat=df.Latitude.plot(kind=\"box\", title=\"Latitude\")\n",
    "plt.grid(True)\n",
    "plt.show()\n",
    "plot_lon=df.Longitude.plot(kind=\"box\", title=\"Longitude\")\n",
    "#plt.title(\"Boxplot de Latitude e Longitude\")\n",
    "plt.grid(True)\n",
    "plt.show()"
   ]
  },
  {
   "cell_type": "markdown",
   "metadata": {},
   "source": [
    "há alta dispersão de longitude na faixa abaixo de 50%, com uma mediana alta.\n",
    "valores máximo e mínimo altos\n",
    "\n",
    "latitude tem uma mediana abaixo de 0 com baixa dispersão geral\n",
    "valores máximo e mínimo baixos\n",
    "a maior parte das latitudes está dispersa em uma faixa -18 à 26\n",
    "\n",
    "logo devido a baixa variação da latitude imagina-se que está não afete a probabilidade de tremores\n",
    "já a longitude talvez afete dada a sua grande variedade\n",
    "\n"
   ]
  },
  {
   "cell_type": "markdown",
   "metadata": {},
   "source": [
    "## Q6 - Tirando conclusões com base nos dados\n",
    "\n",
    "Em um certo lugar já ocorreram abalos com *Magnitude Type* `MB` e *Type* `Nuclear Explosion`. \n",
    " \n",
    "Responda: \n",
    "    * É mais provável que tenha sido no norte ou no sul? \n",
    "    \n",
    "Assuma que os Magnitude Type e Type são independentes\n"
   ]
  },
  {
   "cell_type": "code",
   "execution_count": 30,
   "metadata": {},
   "outputs": [
    {
     "data": {
      "text/plain": [
       "count     23409\n",
       "unique       10\n",
       "top          MW\n",
       "freq       7722\n",
       "Name: Magnitude Type, dtype: object"
      ]
     },
     "execution_count": 30,
     "metadata": {},
     "output_type": "execute_result"
    }
   ],
   "source": [
    "df[\"Magnitude Type\"].describe()"
   ]
  },
  {
   "cell_type": "code",
   "execution_count": null,
   "metadata": {
    "collapsed": true
   },
   "outputs": [],
   "source": []
  },
  {
   "cell_type": "code",
   "execution_count": 31,
   "metadata": {},
   "outputs": [
    {
     "data": {
      "text/html": [
       "<div>\n",
       "<table border=\"1\" class=\"dataframe\">\n",
       "  <thead>\n",
       "    <tr style=\"text-align: right;\">\n",
       "      <th>Hemisfério</th>\n",
       "      <th>Norte</th>\n",
       "      <th>Sul</th>\n",
       "      <th>All</th>\n",
       "    </tr>\n",
       "    <tr>\n",
       "      <th>Type</th>\n",
       "      <th></th>\n",
       "      <th></th>\n",
       "      <th></th>\n",
       "    </tr>\n",
       "  </thead>\n",
       "  <tbody>\n",
       "    <tr>\n",
       "      <th>Earthquake</th>\n",
       "      <td>44.71</td>\n",
       "      <td>54.52</td>\n",
       "      <td>99.23</td>\n",
       "    </tr>\n",
       "    <tr>\n",
       "      <th>Explosion</th>\n",
       "      <td>0.01</td>\n",
       "      <td>0.01</td>\n",
       "      <td>0.02</td>\n",
       "    </tr>\n",
       "    <tr>\n",
       "      <th>Nuclear Explosion</th>\n",
       "      <td>0.63</td>\n",
       "      <td>0.12</td>\n",
       "      <td>0.75</td>\n",
       "    </tr>\n",
       "    <tr>\n",
       "      <th>Rock Burst</th>\n",
       "      <td>0.00</td>\n",
       "      <td>0.00</td>\n",
       "      <td>0.00</td>\n",
       "    </tr>\n",
       "    <tr>\n",
       "      <th>All</th>\n",
       "      <td>45.35</td>\n",
       "      <td>54.65</td>\n",
       "      <td>100.00</td>\n",
       "    </tr>\n",
       "  </tbody>\n",
       "</table>\n",
       "</div>"
      ],
      "text/plain": [
       "Hemisfério         Norte    Sul     All\n",
       "Type                                   \n",
       "Earthquake         44.71  54.52   99.23\n",
       "Explosion           0.01   0.01    0.02\n",
       "Nuclear Explosion   0.63   0.12    0.75\n",
       "Rock Burst          0.00   0.00    0.00\n",
       "All                45.35  54.65  100.00"
      ]
     },
     "execution_count": 31,
     "metadata": {},
     "output_type": "execute_result"
    }
   ],
   "source": [
    "tab_cruz"
   ]
  },
  {
   "cell_type": "code",
   "execution_count": 36,
   "metadata": {},
   "outputs": [
    {
     "data": {
      "text/html": [
       "<div>\n",
       "<table border=\"1\" class=\"dataframe\">\n",
       "  <thead>\n",
       "    <tr style=\"text-align: right;\">\n",
       "      <th>Hemisférios</th>\n",
       "      <th>Norte</th>\n",
       "      <th>Sul</th>\n",
       "    </tr>\n",
       "    <tr>\n",
       "      <th>MagTypes</th>\n",
       "      <th></th>\n",
       "      <th></th>\n",
       "    </tr>\n",
       "  </thead>\n",
       "  <tbody>\n",
       "    <tr>\n",
       "      <th>MB</th>\n",
       "      <td>44.8</td>\n",
       "      <td>55.2</td>\n",
       "    </tr>\n",
       "    <tr>\n",
       "      <th>MD</th>\n",
       "      <td>100.0</td>\n",
       "      <td>0.0</td>\n",
       "    </tr>\n",
       "    <tr>\n",
       "      <th>MH</th>\n",
       "      <td>100.0</td>\n",
       "      <td>0.0</td>\n",
       "    </tr>\n",
       "    <tr>\n",
       "      <th>ML</th>\n",
       "      <td>100.0</td>\n",
       "      <td>0.0</td>\n",
       "    </tr>\n",
       "    <tr>\n",
       "      <th>MS</th>\n",
       "      <td>45.0</td>\n",
       "      <td>55.0</td>\n",
       "    </tr>\n",
       "    <tr>\n",
       "      <th>MW</th>\n",
       "      <td>47.7</td>\n",
       "      <td>52.3</td>\n",
       "    </tr>\n",
       "    <tr>\n",
       "      <th>MWB</th>\n",
       "      <td>45.2</td>\n",
       "      <td>54.8</td>\n",
       "    </tr>\n",
       "    <tr>\n",
       "      <th>MWC</th>\n",
       "      <td>42.1</td>\n",
       "      <td>57.9</td>\n",
       "    </tr>\n",
       "    <tr>\n",
       "      <th>MWR</th>\n",
       "      <td>46.2</td>\n",
       "      <td>53.8</td>\n",
       "    </tr>\n",
       "    <tr>\n",
       "      <th>MWW</th>\n",
       "      <td>44.3</td>\n",
       "      <td>55.7</td>\n",
       "    </tr>\n",
       "    <tr>\n",
       "      <th>All</th>\n",
       "      <td>45.3</td>\n",
       "      <td>54.7</td>\n",
       "    </tr>\n",
       "  </tbody>\n",
       "</table>\n",
       "</div>"
      ],
      "text/plain": [
       "Hemisférios  Norte   Sul\n",
       "MagTypes                \n",
       "MB            44.8  55.2\n",
       "MD           100.0   0.0\n",
       "MH           100.0   0.0\n",
       "ML           100.0   0.0\n",
       "MS            45.0  55.0\n",
       "MW            47.7  52.3\n",
       "MWB           45.2  54.8\n",
       "MWC           42.1  57.9\n",
       "MWR           46.2  53.8\n",
       "MWW           44.3  55.7\n",
       "All           45.3  54.7"
      ]
     },
     "execution_count": 36,
     "metadata": {},
     "output_type": "execute_result"
    }
   ],
   "source": [
    "df.rename(columns={\"Magnitude Type\":\"MagType\"},inplace=True)\n",
    "\n",
    "cross=pd.crosstab(df.MagType, df.Hemisfério, margins=True, rownames=['MagTypes'], colnames=['Hemisférios'], normalize=\"index\")*100\n",
    "cross=zt.round(decimals=2)\n",
    "cross"
   ]
  },
  {
   "cell_type": "code",
   "execution_count": null,
   "metadata": {
    "collapsed": true
   },
   "outputs": [],
   "source": []
  },
  {
   "cell_type": "code",
   "execution_count": 37,
   "metadata": {
    "collapsed": true
   },
   "outputs": [],
   "source": [
    "PN=0.84*0.448  #prob de ser norte\n",
    "PS=0.16*0.552  #prob de ser sul"
   ]
  },
  {
   "cell_type": "code",
   "execution_count": 38,
   "metadata": {},
   "outputs": [
    {
     "name": "stdout",
     "output_type": "stream",
     "text": [
      "0.37632\n",
      "0.08832000000000001\n"
     ]
    }
   ],
   "source": [
    "print(PN)\n",
    "print(PS)"
   ]
  },
  {
   "cell_type": "markdown",
   "metadata": {},
   "source": [
    "Provavelmente a situação descrita ocorreu no Norte"
   ]
  }
 ],
 "metadata": {
  "kernelspec": {
   "display_name": "Python 3",
   "language": "python",
   "name": "python3"
  },
  "language_info": {
   "codemirror_mode": {
    "name": "ipython",
    "version": 3
   },
   "file_extension": ".py",
   "mimetype": "text/x-python",
   "name": "python",
   "nbconvert_exporter": "python",
   "pygments_lexer": "ipython3",
   "version": "3.6.0"
  }
 },
 "nbformat": 4,
 "nbformat_minor": 1
}
